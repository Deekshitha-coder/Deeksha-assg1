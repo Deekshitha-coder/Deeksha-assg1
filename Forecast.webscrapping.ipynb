{
 "cells": [
  {
   "cell_type": "code",
   "execution_count": 1,
   "metadata": {},
   "outputs": [],
   "source": [
    "from bs4 import BeautifulSoup\n",
    "import requests\n",
    "import pandas as pd"
   ]
  },
  {
   "cell_type": "code",
   "execution_count": 2,
   "metadata": {},
   "outputs": [],
   "source": [
    "page=requests.get(\"https://forecast.weather.gov/MapClick.php?lat=34.09969000000007&lon=-118.33512999999999#.XwLs8SgzbIU\")\n",
    "soup=BeautifulSoup(page.content,'html.parser')\n"
   ]
  },
  {
   "cell_type": "code",
   "execution_count": 70,
   "metadata": {},
   "outputs": [
    {
     "name": "stdout",
     "output_type": "stream",
     "text": [
      "<div id=\"seven-day-forecast-container\"><ul class=\"list-unstyled\" id=\"seven-day-forecast-list\"><li class=\"forecast-tombstone\">\n",
      "<div class=\"tombstone-container\">\n",
      "<p class=\"period-name\">This<br/>Afternoon</p>\n",
      "<p><img alt=\"This Afternoon: Sunny, with a high near 88. Southwest wind 5 to 10 mph, with gusts as high as 15 mph. \" class=\"forecast-icon\" src=\"newimages/medium/skc.png\" title=\"This Afternoon: Sunny, with a high near 88. Southwest wind 5 to 10 mph, with gusts as high as 15 mph. \"/></p><p class=\"short-desc\">Sunny</p><p class=\"temp temp-high\">High: 88 °F</p></div></li><li class=\"forecast-tombstone\">\n",
      "<div class=\"tombstone-container\">\n",
      "<p class=\"period-name\">Tonight<br/><br/></p>\n",
      "<p><img alt=\"Tonight: Mostly clear, with a low around 62. Southwest wind 5 to 10 mph becoming south southeast after midnight. Winds could gust as high as 15 mph. \" class=\"forecast-icon\" src=\"newimages/medium/nfew.png\" title=\"Tonight: Mostly clear, with a low around 62. Southwest wind 5 to 10 mph becoming south southeast after midnight. Winds could gust as high as 15 mph. \"/></p><p class=\"short-desc\">Mostly Clear</p><p class=\"temp temp-low\">Low: 62 °F</p></div></li><li class=\"forecast-tombstone\">\n",
      "<div class=\"tombstone-container\">\n",
      "<p class=\"period-name\">Tuesday<br/><br/></p>\n",
      "<p><img alt=\"Tuesday: Sunny, with a high near 83. South wind around 5 mph. \" class=\"forecast-icon\" src=\"newimages/medium/few.png\" title=\"Tuesday: Sunny, with a high near 83. South wind around 5 mph. \"/></p><p class=\"short-desc\">Sunny</p><p class=\"temp temp-high\">High: 83 °F</p></div></li><li class=\"forecast-tombstone\">\n",
      "<div class=\"tombstone-container\">\n",
      "<p class=\"period-name\">Tuesday<br/>Night</p>\n",
      "<p><img alt=\"Tuesday Night: Increasing clouds, with a low around 61. South wind around 5 mph becoming calm  in the evening. \" class=\"forecast-icon\" src=\"newimages/medium/nsct.png\" title=\"Tuesday Night: Increasing clouds, with a low around 61. South wind around 5 mph becoming calm  in the evening. \"/></p><p class=\"short-desc\">Increasing<br/>Clouds</p><p class=\"temp temp-low\">Low: 61 °F</p></div></li><li class=\"forecast-tombstone\">\n",
      "<div class=\"tombstone-container\">\n",
      "<p class=\"period-name\">Wednesday<br/><br/></p>\n",
      "<p><img alt=\"Wednesday: Patchy fog before 11am.  Otherwise, mostly sunny, with a high near 82. Calm wind becoming south southwest around 5 mph in the afternoon. \" class=\"forecast-icon\" src=\"DualImage.php?i=fg&amp;j=skc\" title=\"Wednesday: Patchy fog before 11am.  Otherwise, mostly sunny, with a high near 82. Calm wind becoming south southwest around 5 mph in the afternoon. \"/></p><p class=\"short-desc\">Patchy Fog<br/>then Sunny</p><p class=\"temp temp-high\">High: 82 °F</p></div></li><li class=\"forecast-tombstone\">\n",
      "<div class=\"tombstone-container\">\n",
      "<p class=\"period-name\">Wednesday<br/>Night</p>\n",
      "<p><img alt=\"Wednesday Night: Mostly clear, with a low around 61.\" class=\"forecast-icon\" src=\"newimages/medium/nfew.png\" title=\"Wednesday Night: Mostly clear, with a low around 61.\"/></p><p class=\"short-desc\">Mostly Clear</p><p class=\"temp temp-low\">Low: 61 °F</p></div></li><li class=\"forecast-tombstone\">\n",
      "<div class=\"tombstone-container\">\n",
      "<p class=\"period-name\">Thursday<br/><br/></p>\n",
      "<p><img alt=\"Thursday: Patchy fog before 11am.  Otherwise, mostly sunny, with a high near 83.\" class=\"forecast-icon\" src=\"DualImage.php?i=fg&amp;j=skc\" title=\"Thursday: Patchy fog before 11am.  Otherwise, mostly sunny, with a high near 83.\"/></p><p class=\"short-desc\">Patchy Fog<br/>then Sunny</p><p class=\"temp temp-high\">High: 83 °F</p></div></li><li class=\"forecast-tombstone\">\n",
      "<div class=\"tombstone-container\">\n",
      "<p class=\"period-name\">Thursday<br/>Night</p>\n",
      "<p><img alt=\"Thursday Night: Clear, with a low around 64.\" class=\"forecast-icon\" src=\"newimages/medium/nskc.png\" title=\"Thursday Night: Clear, with a low around 64.\"/></p><p class=\"short-desc\">Clear</p><p class=\"temp temp-low\">Low: 64 °F</p></div></li><li class=\"forecast-tombstone\">\n",
      "<div class=\"tombstone-container\">\n",
      "<p class=\"period-name\">Friday<br/><br/></p>\n",
      "<p><img alt=\"Friday: Sunny, with a high near 90.\" class=\"forecast-icon\" src=\"newimages/medium/few.png\" title=\"Friday: Sunny, with a high near 90.\"/></p><p class=\"short-desc\">Sunny</p><p class=\"temp temp-high\">High: 90 °F</p></div></li></ul></div>\n"
     ]
    }
   ],
   "source": [
    "week=soup.find(id=\"seven-day-forecast-container\")\n",
    "print(week)"
   ]
  },
  {
   "cell_type": "code",
   "execution_count": 71,
   "metadata": {},
   "outputs": [
    {
     "name": "stdout",
     "output_type": "stream",
     "text": [
      "<div class=\"tombstone-container\">\n",
      "<p class=\"period-name\">Tonight<br/><br/></p>\n",
      "<p><img alt=\"Tonight: Mostly clear, with a low around 62. Southwest wind 5 to 10 mph becoming south southeast after midnight. Winds could gust as high as 15 mph. \" class=\"forecast-icon\" src=\"newimages/medium/nfew.png\" title=\"Tonight: Mostly clear, with a low around 62. Southwest wind 5 to 10 mph becoming south southeast after midnight. Winds could gust as high as 15 mph. \"/></p><p class=\"short-desc\">Mostly Clear</p><p class=\"temp temp-low\">Low: 62 °F</p></div>\n"
     ]
    }
   ],
   "source": [
    "items=week.find_all(class_=\"tombstone-container\")\n",
    "\n",
    "del items[0]\n",
    "print(items[0])"
   ]
  },
  {
   "cell_type": "code",
   "execution_count": 72,
   "metadata": {},
   "outputs": [
    {
     "name": "stdout",
     "output_type": "stream",
     "text": [
      "Tuesday\n",
      "Sunny\n",
      "High: 83 °F\n"
     ]
    }
   ],
   "source": [
    "print(items[1].find(class_=\"period-name\").get_text())\n",
    "print(items[1].find(class_=\"short-desc\").get_text())\n",
    "print(items[1].find(class_=\"temp\").get_text())"
   ]
  },
  {
   "cell_type": "code",
   "execution_count": 84,
   "metadata": {},
   "outputs": [
    {
     "name": "stdout",
     "output_type": "stream",
     "text": [
      "['Low: 62 °F', 'High: 83 °F', 'Low: 61 °F', 'High: 82 °F', 'Low: 61 °F', 'High: 83 °F', 'Low: 64 °F', 'High: 90 °F']\n",
      "['Tonight', 'Tuesday', 'TuesdayNight', 'Wednesday', 'WednesdayNight', 'Thursday', 'ThursdayNight', 'Friday']\n",
      "['Mostly Clear', 'Sunny', 'IncreasingClouds', 'Patchy Fogthen Sunny', 'Mostly Clear', 'Patchy Fogthen Sunny', 'Clear', 'Sunny']\n"
     ]
    }
   ],
   "source": [
    "period_name=[item.find(class_=\"period-name\").get_text() for item in items]\n",
    "short_description =[item.find(class_=\"short-desc\").get_text() for item in items] \n",
    "temperatures=[item.find(class_=\"temp\").get_text() for item in items]\n",
    "print(temperatures) \n",
    "print(period_name)\n",
    "print(short_description)\n"
   ]
  },
  {
   "cell_type": "code",
   "execution_count": 85,
   "metadata": {},
   "outputs": [
    {
     "name": "stdout",
     "output_type": "stream",
     "text": [
      "           period    short_descriptions temperatures\n",
      "0         Tonight          Mostly Clear   Low: 62 °F\n",
      "1         Tuesday                 Sunny  High: 83 °F\n",
      "2    TuesdayNight      IncreasingClouds   Low: 61 °F\n",
      "3       Wednesday  Patchy Fogthen Sunny  High: 82 °F\n",
      "4  WednesdayNight          Mostly Clear   Low: 61 °F\n",
      "5        Thursday  Patchy Fogthen Sunny  High: 83 °F\n",
      "6   ThursdayNight                 Clear   Low: 64 °F\n",
      "7          Friday                 Sunny  High: 90 °F\n"
     ]
    }
   ],
   "source": [
    "weather_stuff=pd.DataFrame(\n",
    "    {\n",
    "     \"period\" : period_name,\n",
    "     \"short_descriptions\" : short_description,\n",
    "     \"temperatures\": temperatures,\n",
    "     })\n",
    "print(weather_stuff)\n",
    "\n",
    "weather_stuff.to_csv(\"weather.csv\")"
   ]
  },
  {
   "cell_type": "code",
   "execution_count": 83,
   "metadata": {},
   "outputs": [],
   "source": []
  },
  {
   "cell_type": "code",
   "execution_count": null,
   "metadata": {},
   "outputs": [],
   "source": []
  }
 ],
 "metadata": {
  "kernelspec": {
   "display_name": "Python 3",
   "language": "python",
   "name": "python3"
  },
  "language_info": {
   "codemirror_mode": {
    "name": "ipython",
    "version": 3
   },
   "file_extension": ".py",
   "mimetype": "text/x-python",
   "name": "python",
   "nbconvert_exporter": "python",
   "pygments_lexer": "ipython3",
   "version": "3.7.6"
  }
 },
 "nbformat": 4,
 "nbformat_minor": 4
}
