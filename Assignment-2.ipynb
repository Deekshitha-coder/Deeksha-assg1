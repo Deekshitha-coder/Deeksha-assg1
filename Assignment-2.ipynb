{
 "cells": [
  {
   "cell_type": "markdown",
   "metadata": {},
   "source": [
    " Assignment-2"
   ]
  },
  {
   "cell_type": "markdown",
   "metadata": {},
   "source": [
    "Q-1"
   ]
  },
  {
   "cell_type": "code",
   "execution_count": 1,
   "metadata": {},
   "outputs": [],
   "source": [
    "def myreduce(func,my_list):\n",
    "    result=my_list[0]\n",
    "    for item in my_list[1:]:\n",
    "        result=func(result,item)\n",
    "        return result\n",
    "\n",
    "def myfilter(func, my_list):\n",
    "    result = []\n",
    "    for item in my_list:\n",
    "            if func(item):\n",
    "                result.append(item)\n",
    "    return result\n",
    "    \n",
    "def sum(x,y): \n",
    "    return x + y\n",
    "\n",
    "def ispositive(x): \n",
    "    if (x <= 0): \n",
    "        return False \n",
    "    else: \n",
    "        return True\n",
    "    \n",
    "    \n",
    "    "
   ]
  },
  {
   "cell_type": "markdown",
   "metadata": {},
   "source": [
    "Q-2"
   ]
  },
  {
   "cell_type": "code",
   "execution_count": 1,
   "metadata": {},
   "outputs": [
    {
     "name": "stdout",
     "output_type": "stream",
     "text": [
      "Enter the letters : acadgild\n",
      "['A', 'C', 'A', 'D', 'G', 'I', 'L', 'D']\n"
     ]
    }
   ],
   "source": [
    "a=input(\"Enter the letters : \")\n",
    "for i in a:\n",
    "    x=a.upper()\n",
    "print(list(x))"
   ]
  },
  {
   "cell_type": "code",
   "execution_count": 4,
   "metadata": {},
   "outputs": [
    {
     "name": "stdout",
     "output_type": "stream",
     "text": [
      "Enter the letters : xyz\n",
      "['x', 'xx', 'xxx', 'xxxx', 'y', 'yy', 'yyy', 'yyyy', 'z', 'zz', 'zzz', 'zzzz']\n"
     ]
    }
   ],
   "source": [
    "a=input(\"Enter the letters : \")\n",
    "l=[]\n",
    "for i in a:    \n",
    "    for j in range(1,5):\n",
    "        c=i*j\n",
    "        l.append(c)\n",
    "print(l)\n",
    "        \n",
    "\n",
    "    \n",
    "    "
   ]
  },
  {
   "cell_type": "code",
   "execution_count": 5,
   "metadata": {},
   "outputs": [
    {
     "name": "stdout",
     "output_type": "stream",
     "text": [
      "Enter the letters : xyz\n",
      "['x', 'y', 'z', 'xx', 'yy', 'zz', 'xxx', 'yyy', 'zzz', 'xxxx', 'yyyy', 'zzzz']\n"
     ]
    }
   ],
   "source": [
    "input_list = input(\"Enter the letters : \")\n",
    "l=[]\n",
    "for num in range(1,5):\n",
    "    for item in input_list:\n",
    "        result = item*num\n",
    "        l.append(result)\n",
    "print(l)     \n",
    "    "
   ]
  },
  {
   "cell_type": "code",
   "execution_count": 4,
   "metadata": {},
   "outputs": [
    {
     "name": "stdout",
     "output_type": "stream",
     "text": [
      "[[2], [3], [4], [3], [4], [5], [4], [5], [6]]\n"
     ]
    }
   ],
   "source": [
    "\n",
    "l=[]\n",
    "for i in range(2,5):\n",
    "    for y in range(3):\n",
    "        c=y+i\n",
    "        j=[c]\n",
    "        l.append(j)\n",
    "print(l)\n"
   ]
  },
  {
   "cell_type": "code",
   "execution_count": 134,
   "metadata": {},
   "outputs": [
    {
     "name": "stdout",
     "output_type": "stream",
     "text": [
      "[[2, 3, 4, 5], [3, 4, 5, 6], [4, 5, 6, 7], [5, 6, 7, 8]]\n"
     ]
    }
   ],
   "source": [
    "a = [[i+j for j in range(2,6)] for i in range(4)] \n",
    "  \n",
    "print(a)"
   ]
  },
  {
   "cell_type": "code",
   "execution_count": 147,
   "metadata": {},
   "outputs": [
    {
     "name": "stdout",
     "output_type": "stream",
     "text": [
      "[[(1, 1), (2, 1), (3, 1)], [(1, 2), (2, 2), (3, 2)], [(1, 3), (2, 3), (3, 3)]]\n"
     ]
    }
   ],
   "source": [
    "b=[[(i,j) for i in range(1,4)] for j in range(1,4)]\n",
    "print(b)"
   ]
  },
  {
   "cell_type": "code",
   "execution_count": 18,
   "metadata": {},
   "outputs": [
    {
     "name": "stdout",
     "output_type": "stream",
     "text": [
      "Enter the list of words :Deeksha,Bharath,Yeshoda,Krishnareddy\n",
      "Krishnareddy\n"
     ]
    }
   ],
   "source": [
    "words_list=input(\"Enter the list of words :\").split(\",\")\n",
    "\n",
    "def find_longest_word(words_list):\n",
    "    word_len=[]\n",
    "    for n in words_list:\n",
    "        word_len.append((len(n),n))\n",
    "    word_len.sort()\n",
    "    return word_len[-1][1]\n",
    "print(find_longest_word(words_list))\n",
    "\n",
    "   \n"
   ]
  },
  {
   "cell_type": "code",
   "execution_count": 22,
   "metadata": {},
   "outputs": [
    {
     "name": "stdout",
     "output_type": "stream",
     "text": [
      "[(7, 'Bharath'), (7, 'Deeksha'), (7, 'Yeshoda'), (12, 'Krishnareddy')]\n"
     ]
    }
   ],
   "source": [
    "l=[(7,\"Deeksha\"),(7,\"Bharath\"),(7,\"Yeshoda\"),(12,\"Krishnareddy\")]\n",
    "l.sort()\n",
    "print(l)"
   ]
  },
  {
   "cell_type": "code",
   "execution_count": 25,
   "metadata": {},
   "outputs": [
    {
     "data": {
      "text/plain": [
       "'Yeshoda'"
      ]
     },
     "execution_count": 25,
     "metadata": {},
     "output_type": "execute_result"
    }
   ],
   "source": [
    "l[-2][1]"
   ]
  },
  {
   "cell_type": "code",
   "execution_count": 13,
   "metadata": {},
   "outputs": [
    {
     "name": "stdout",
     "output_type": "stream",
     "text": [
      "Enter the length of a triangle in cm :2 2 2\n",
      "length of a :  2\n",
      "length of b :  2\n",
      "length of c :  2\n",
      "Perimeter of the triangle : 3.0\n",
      "Area of the triangle :  1.7320508075688772\n"
     ]
    }
   ],
   "source": [
    "a,b,c =map(int,input(\"Enter the length of a triangle in cm :\" ).split())\n",
    "print(\"length of a : \",a)\n",
    "print(\"length of b : \",b)\n",
    "print(\"length of c : \",c)\n",
    "s=((a+b+c)/2)\n",
    "print(\"Perimeter of the triangle :\",s)\n",
    "area = ((s*(s-a)*(s-b)*(s-c)) ** 0.5)\n",
    "print(\"Area of the triangle : \",area)"
   ]
  },
  {
   "cell_type": "markdown",
   "metadata": {},
   "source": [
    "Task 2\n",
    "\n",
    "1.1"
   ]
  },
  {
   "cell_type": "code",
   "execution_count": 43,
   "metadata": {},
   "outputs": [
    {
     "name": "stdout",
     "output_type": "stream",
     "text": [
      "Enter the length of 3 sides of a triangle in cm :4 6 7\n",
      "Area of the triangle :  11.976539567003485\n"
     ]
    }
   ],
   "source": [
    "class Triangle:\n",
    "          \n",
    "    def __init__(self,a,b,c):\n",
    "        self.a = a\n",
    "        self.b = b\n",
    "        self.c = c\n",
    "        \n",
    "    def area(self):\n",
    "        s=((obj.a+obj.b+obj.c)/2)\n",
    "        d= ((s*(s-obj.a)*(s-obj.b)*(s-obj.c)) ** 0.5)\n",
    "        print(\"Area of the triangle : \",d)\n",
    "        \n",
    "\n",
    "        \n",
    "\n",
    "x,y,z =map(int,input(\"Enter the length of 3 sides of a triangle in cm :\" ).split())\n",
    "\n",
    "obj = Triangle(x,y,z)  \n",
    "\n",
    "obj.area()\n",
    "\n"
   ]
  },
  {
   "cell_type": "markdown",
   "metadata": {},
   "source": [
    "1.2"
   ]
  },
  {
   "cell_type": "code",
   "execution_count": 74,
   "metadata": {},
   "outputs": [
    {
     "name": "stdout",
     "output_type": "stream",
     "text": [
      "Enter the list of words :Acadgild,ineuron,sophia,mansion\n",
      "Acadgild\n"
     ]
    }
   ],
   "source": [
    "words_list=input(\"Enter the list of words :\").split(\",\")\n",
    "\n",
    "def find_longest_word(words_list):\n",
    "    word_len=[]\n",
    "    for n in words_list:\n",
    "        word_len.append((len(n),n))\n",
    "    word_len.sort()\n",
    "    return word_len[-1][1]\n",
    "print(find_longest_word(words_list))"
   ]
  },
  {
   "cell_type": "markdown",
   "metadata": {},
   "source": [
    "2.1"
   ]
  },
  {
   "cell_type": "code",
   "execution_count": 73,
   "metadata": {},
   "outputs": [
    {
     "name": "stdout",
     "output_type": "stream",
     "text": [
      "Enter the list of names : Deeksha,Bharath,Yashodha\n",
      "[7, 7, 8]\n"
     ]
    }
   ],
   "source": [
    "word_list=input(\"Enter the list of names : \").split(\",\")\n",
    "word_len=[]\n",
    "\n",
    "\n",
    "def length(word_list):\n",
    "    for l in word_list:\n",
    "        word_len.append(len(l))\n",
    "    return word_len\n",
    "    \n",
    "print(length(word_list))\n"
   ]
  },
  {
   "cell_type": "markdown",
   "metadata": {},
   "source": [
    "2.2"
   ]
  },
  {
   "cell_type": "code",
   "execution_count": 111,
   "metadata": {},
   "outputs": [
    {
     "name": "stdout",
     "output_type": "stream",
     "text": [
      "Check the character its a vowel or not : l\n",
      "False\n"
     ]
    }
   ],
   "source": [
    "vow=input(\"Check the character its a vowel or not : \")\n",
    "\n",
    "\n",
    "if vow in (\"a\",\"e\",\"i\",\"o\",\"u\"):\n",
    "    print(\"True\")\n",
    "else:       \n",
    "    print(\"False\")\n"
   ]
  },
  {
   "cell_type": "code",
   "execution_count": null,
   "metadata": {},
   "outputs": [],
   "source": []
  }
 ],
 "metadata": {
  "kernelspec": {
   "display_name": "Python 3",
   "language": "python",
   "name": "python3"
  },
  "language_info": {
   "codemirror_mode": {
    "name": "ipython",
    "version": 3
   },
   "file_extension": ".py",
   "mimetype": "text/x-python",
   "name": "python",
   "nbconvert_exporter": "python",
   "pygments_lexer": "ipython3",
   "version": "3.7.6"
  }
 },
 "nbformat": 4,
 "nbformat_minor": 2
}
